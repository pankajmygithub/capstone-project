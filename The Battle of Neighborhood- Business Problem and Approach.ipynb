{
 "cells": [
  {
   "cell_type": "markdown",
   "metadata": {},
   "source": [
    "# The Battle of Neighborhood - Business Problem and Approach"
   ]
  },
  {
   "cell_type": "markdown",
   "metadata": {},
   "source": [
    "## Project: Starting Online Food Delivery service in New York city \n",
    "A capstone project by Pankaj Kumar"
   ]
  },
  {
   "cell_type": "markdown",
   "metadata": {},
   "source": [
    "### Introduction \n",
    "In today's fast-paced and busy life in New York, it is unfeasible to go out and have three times meals in restaurants. Hence, online food delivery service will be best way to save their time and people can dedicate more time in their productive work/ Apart from that, they will have food from their favorite place of their taste and save money as well. Moreover, the online delivery service growing in New York city as forecasted by many agencies. Some of the facts are as follows:\n",
    "Revenue in the Online Food Delivery segment amounts to US$18,358m in 2019.\n",
    "Revenue is expected to show an annual growth rate (CAGR 2019-2023) of 7.3%, resulting in a market volume of US$24,345m by 2023.\n",
    "The market's largest segment is Restaurant-to-Consumer Delivery with a market volume of US$16,162m in 2019.\n",
    "In global comparison, most revenue is generated in China (US$38,411m in 2019).\n",
    "\n",
    "https://www.statista.com\n"
   ]
  },
  {
   "cell_type": "markdown",
   "metadata": {},
   "source": [
    "### Description of Data \n",
    "As mentioned previously, the goal of this study is to determine what are the location we are going to target. We will mostly target the business area where most of the office work happened. The cluster of locations will be identified so that we can provide quick service. We will divide New-York locations into 4 cluster to provide the fastest service. We will use New-York and neighborhood location data for this. The population data is acquired from city of New York website [2]. Apart from the mentioned data, the geospatial data for the neighborhoods in New-York is also imported from Foursquare API to generate a sense of distance between the neighbourhoods [3]. \n",
    "https://foursquare.com/ \n"
   ]
  },
  {
   "cell_type": "markdown",
   "metadata": {},
   "source": [
    "### Methodology \n",
    "Once the data from the mentioned data sources are imported and formatted appropriately in a python data frame, the next step is to normalize the data to allow easier comparison between various neighborhoods. Thus, the population (P), number of work places in different neighborhoods in New-York are divided by their maximum values. The next step in the methodology is to cluster the neighborhoods using the k-means algorithm. The clustering of neighborhoods is done only based on geospatial data (i.e. latitude and longitude) and business value. The clustered neighborhoods are visualized using Folium library of python.\n"
   ]
  },
  {
   "cell_type": "markdown",
   "metadata": {},
   "source": [
    "### Results \n",
    "By applying the mentioned methodology, the neighborhoods are clustered in 4 groups. That will cover whole city of New-York based on the clustering method (Euclidean distance) \n"
   ]
  },
  {
   "cell_type": "markdown",
   "metadata": {},
   "source": [
    "### Conclusion \n",
    "To conclude, the capstone project consisting of Population data collection/wrangling, foursquare API data collection/wrangling, K-means clustering, and folium map visualization is successful in attaining the required goal. The project can be improved by using recent data and including various other parameters such as commercial rents, utility costs etc. The approach of the project can be implemented to address a variety of similar problems such as determining the location for a online delivery service, location of a restaurant etc.\n"
   ]
  },
  {
   "cell_type": "code",
   "execution_count": null,
   "metadata": {
    "collapsed": true
   },
   "outputs": [],
   "source": []
  },
  {
   "cell_type": "code",
   "execution_count": null,
   "metadata": {
    "collapsed": true
   },
   "outputs": [],
   "source": []
  }
 ],
 "metadata": {
  "kernelspec": {
   "display_name": "Python 3",
   "language": "python",
   "name": "python3"
  },
  "language_info": {
   "codemirror_mode": {
    "name": "ipython",
    "version": 3
   },
   "file_extension": ".py",
   "mimetype": "text/x-python",
   "name": "python",
   "nbconvert_exporter": "python",
   "pygments_lexer": "ipython3",
   "version": "3.6.1"
  }
 },
 "nbformat": 4,
 "nbformat_minor": 2
}
